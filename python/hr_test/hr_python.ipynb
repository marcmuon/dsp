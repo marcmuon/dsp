{
 "cells": [
  {
   "cell_type": "markdown",
   "metadata": {},
   "source": [
    "# HackerRank Python"
   ]
  },
  {
   "cell_type": "markdown",
   "metadata": {},
   "source": [
    "#### Write a python lambda that takes a function mylist and returns a list that contains only evens in the same order"
   ]
  },
  {
   "cell_type": "code",
   "execution_count": 17,
   "metadata": {},
   "outputs": [
    {
     "name": "stdout",
     "output_type": "stream",
     "text": [
      "[2, 4, 6, 8, 10]\n"
     ]
    }
   ],
   "source": [
    "my_list = [1,2,3,4,5,6,7,8,9,10,11]\n",
    "print([i for i in my_list if i % 2 == 0])"
   ]
  },
  {
   "cell_type": "code",
   "execution_count": 16,
   "metadata": {},
   "outputs": [
    {
     "name": "stdout",
     "output_type": "stream",
     "text": [
      "[2, 4, 6, 8, 10]\n",
      "2\n",
      "4\n",
      "6\n",
      "8\n",
      "10\n"
     ]
    }
   ],
   "source": [
    "my_list = [1,2,3,4,5,6,7,8,9,10,11]\n",
    "\n",
    "f = lambda my_list: [i for i in my_list if i % 2 == 0]\n",
    "\n",
    "print(f(my_list))\n",
    "for x in f(my_list):\n",
    "    print(x)"
   ]
  },
  {
   "cell_type": "markdown",
   "metadata": {},
   "source": [
    "#### Use map to return a list called items_squared which is the square of each number in items_list"
   ]
  },
  {
   "cell_type": "code",
   "execution_count": 22,
   "metadata": {},
   "outputs": [
    {
     "name": "stdout",
     "output_type": "stream",
     "text": [
      "[1, 4, 9, 16, 25]\n"
     ]
    }
   ],
   "source": [
    "items_list = [1, 2, 3, 4, 5]\n",
    "\n",
    "def sqr(x):\n",
    "    return x ** 2\n",
    "\n",
    "#items_squared = list(map(lambda x: sqr(x), items_list))\n",
    "items_squared = list(map(sqr,items_list))\n",
    "print(items_squared)"
   ]
  },
  {
   "cell_type": "markdown",
   "metadata": {},
   "source": [
    "#### Use filter to get all items divisible by 10"
   ]
  },
  {
   "cell_type": "code",
   "execution_count": 27,
   "metadata": {},
   "outputs": [
    {
     "name": "stdout",
     "output_type": "stream",
     "text": [
      "[0, 10, 20, 30, 40, 50, 100]\n"
     ]
    }
   ],
   "source": [
    "xlist = [0, 5, 10, 15, 20, 25, 30, 35, 40, 45, 50, 75,100]\n",
    "\n",
    "# Write your answer in one line, using \"filter\"\n",
    "tens_list = list(filter(lambda x: x % 10 == 0, xlist))\n",
    "print(tens_list)"
   ]
  },
  {
   "cell_type": "markdown",
   "metadata": {},
   "source": [
    "#### Compute difference in days between two given strings"
   ]
  },
  {
   "cell_type": "code",
   "execution_count": 62,
   "metadata": {},
   "outputs": [
    {
     "name": "stdout",
     "output_type": "stream",
     "text": [
      "2\n"
     ]
    }
   ],
   "source": [
    "#date_start = '01-02-2013'\n",
    "#date_stop = '01-03-2013'\n",
    "\n",
    "from datetime import datetime\n",
    "\n",
    "#print(datetime.strptime('01-02-2013', '%m-%d-%Y'))\n",
    "def difference_in_days(date1, date2):\n",
    "    d1 = datetime.strptime(date1, '%m-%d-%Y')\n",
    "    d2 = datetime.strptime(date2, '%m-%d-%Y')\n",
    "    diff = d2.date() - d1.date()\n",
    "    return diff.days\n",
    "print(difference_in_days('01-02-2013','01-04-2013'))\n",
    "    "
   ]
  },
  {
   "cell_type": "markdown",
   "metadata": {},
   "source": [
    "#### celsius to farenheit in list comp"
   ]
  },
  {
   "cell_type": "code",
   "execution_count": 63,
   "metadata": {},
   "outputs": [
    {
     "name": "stdout",
     "output_type": "stream",
     "text": [
      "[102.56, 97.7, 99.14, 32.0, 68.0]\n"
     ]
    }
   ],
   "source": [
    "celsius = [39.2, 36.5, 37.3, 0, 20]\n",
    "# write your answer in one line. use a list comprehension. use the variable \"celsius\"\n",
    "fahrenheit = [x * (9/5) + 32 for x in celsius]\n",
    "print(fahrenheit)"
   ]
  },
  {
   "cell_type": "markdown",
   "metadata": {},
   "source": [
    "#### given s, change all occurrences of first char to * except for first char itself"
   ]
  },
  {
   "cell_type": "code",
   "execution_count": 64,
   "metadata": {},
   "outputs": [
    {
     "name": "stdout",
     "output_type": "stream",
     "text": [
      "ba**le\n"
     ]
    }
   ],
   "source": [
    "#e.g. babble yields ba**le; assume length 1 or more\n",
    "\n",
    "def fix_start(s):\n",
    "    first = s[0]\n",
    "    rest = s[1:len(s)]\n",
    "    return first + rest.replace(first,'*')\n",
    "print(fix_start('babble'))"
   ]
  },
  {
   "cell_type": "markdown",
   "metadata": {},
   "source": [
    "#### return single string separated by space except first two char of string swapped"
   ]
  },
  {
   "cell_type": "code",
   "execution_count": 66,
   "metadata": {},
   "outputs": [
    {
     "name": "stdout",
     "output_type": "stream",
     "text": [
      "spash gnort\n"
     ]
    }
   ],
   "source": [
    "#mix_up('gnash','sport') = 'spash gnort'\n",
    "def mix_up(a, b):\n",
    "    a_2 = a[0:2]\n",
    "    a_rest = a[2:]\n",
    "    b_2 = b[0:2]\n",
    "    b_rest = b[2:]\n",
    "    return b_2 + a_rest + ' ' + a_2 + b_rest\n",
    "print(mix_up('gnash','sport'))"
   ]
  },
  {
   "cell_type": "markdown",
   "metadata": {},
   "source": [
    "#### if length 3 or more add 'ing', if already ends in 'ing' change to 'ly', if length less than 3 don't touch"
   ]
  },
  {
   "cell_type": "code",
   "execution_count": 69,
   "metadata": {},
   "outputs": [
    {
     "name": "stdout",
     "output_type": "stream",
     "text": [
      "swimmly\n"
     ]
    }
   ],
   "source": [
    "def verbing(s):\n",
    "    if len(s) < 3:\n",
    "        return s\n",
    "    elif len(s) >=3 and s[len(s)-3:len(s)] != 'ing':\n",
    "        return s + 'ing'\n",
    "    else:\n",
    "        return s + 'ly'\n",
    "print(verbing('swimming'))\n",
    "        "
   ]
  },
  {
   "cell_type": "markdown",
   "metadata": {},
   "source": [
    "#### find first substr of 'not' and 'bad'. if 'bad' follows 'not': replace whole phrase with 'good'.  "
   ]
  },
  {
   "cell_type": "code",
   "execution_count": 75,
   "metadata": {},
   "outputs": [
    {
     "name": "stdout",
     "output_type": "stream",
     "text": [
      "This movie is good I would say!\n"
     ]
    }
   ],
   "source": [
    "#This move is not so bad becomes This movie is good\n",
    "def not_bad(s):\n",
    "    if s.find('not') != -1 and s.find('bad') != -1:\n",
    "        beginning = s[0:s.find('not')]\n",
    "        end = s[s.find('bad')+3:]\n",
    "        if s.find('not') < s.find('bad'):\n",
    "            return beginning + 'good' + end\n",
    "        else:\n",
    "            return s\n",
    "    else:\n",
    "        return s\n",
    "print(not_bad('This movie is not so bad I would say!'))\n",
    "            "
   ]
  },
  {
   "cell_type": "markdown",
   "metadata": {},
   "source": [
    "#### return a-front + b-front + a-back + b-back. if length is even, it's two halves. if odd, put extra char in front half"
   ]
  },
  {
   "cell_type": "code",
   "execution_count": 83,
   "metadata": {},
   "outputs": [
    {
     "name": "stdout",
     "output_type": "stream",
     "text": [
      "helworlolds\n"
     ]
    }
   ],
   "source": [
    "def front_back(s1,s2):\n",
    "    if len(s1) % 2 == 0:\n",
    "        s1_front = s1[0:len(s1)//2]\n",
    "        s1_back = s1[len(s1)//2:]\n",
    "    else:\n",
    "        s1_front = s1[0:len(s1)//2]+s1[len(s1)//2]\n",
    "        s1_back = s1[len(s1)//2+1:]\n",
    "    if len(s2) % 2 == 0:\n",
    "        s2_front = s2[0:len(s2)//2]\n",
    "        s2_back = s2[len(s2)//2:]\n",
    "    else:\n",
    "        s2_front = s2[0:len(s2)//2]+s2[len(s2)//2]\n",
    "        s2_back = s2[len(s2)//2+1:]\n",
    "    return s1_front + s2_front + s1_back + s2_back\n",
    "print(front_back('hello','worlds'))"
   ]
  },
  {
   "cell_type": "markdown",
   "metadata": {},
   "source": [
    "#### return count of number of strings where length is 2 or more and first and last char of str are same, given list of strings"
   ]
  },
  {
   "cell_type": "code",
   "execution_count": 90,
   "metadata": {},
   "outputs": [
    {
     "name": "stdout",
     "output_type": "stream",
     "text": [
      "1\n"
     ]
    }
   ],
   "source": [
    "def match_ends(s):\n",
    "    count = 0\n",
    "    for word in s:\n",
    "        if len(word) >= 2:\n",
    "            if word[0] == word[-1:]:\n",
    "                count += 1\n",
    "    return count\n",
    "print(match_ends(['hello','world','heilh']))"
   ]
  },
  {
   "cell_type": "markdown",
   "metadata": {},
   "source": [
    "#### given list of strings, return a list with strings sorted order, except group all strings beginning with x first"
   ]
  },
  {
   "cell_type": "code",
   "execution_count": 109,
   "metadata": {},
   "outputs": [
    {
     "name": "stdout",
     "output_type": "stream",
     "text": [
      "['xa', 'ax', 'bx']\n"
     ]
    }
   ],
   "source": [
    "def front_x(words):\n",
    "    x_list = []\n",
    "    for word in words:\n",
    "        if word[0] == 'x':\n",
    "            x_list.append(word)\n",
    "    x_removed = [word for word in words if word[0] != 'x']\n",
    "    return sorted(x_list) + sorted(x_removed)\n",
    "print(front_x(['ax','bx','xa']))"
   ]
  },
  {
   "cell_type": "markdown",
   "metadata": {},
   "source": [
    "#### give tuples, return list sorted by last element of each tuple, tuples could be diff sizes"
   ]
  },
  {
   "cell_type": "code",
   "execution_count": 116,
   "metadata": {},
   "outputs": [
    {
     "name": "stdout",
     "output_type": "stream",
     "text": [
      "[(0, 0), (1, 2), (0, 3)]\n"
     ]
    }
   ],
   "source": [
    "def sort_last(tuples):\n",
    "    def last(x): \n",
    "        return x[-1:][0]\n",
    "    return sorted(tuples, key=last)\n",
    "  \n",
    "print(sort_last([(0,3),(1,2),(0,0)]))"
   ]
  },
  {
   "cell_type": "markdown",
   "metadata": {},
   "source": [
    "#### given a list, return so all adjacent get reduced"
   ]
  },
  {
   "cell_type": "code",
   "execution_count": 173,
   "metadata": {},
   "outputs": [
    {
     "name": "stdout",
     "output_type": "stream",
     "text": [
      "[3, 2, 3]\n"
     ]
    }
   ],
   "source": [
    "# remove_adjacent([3,2,3,3,3]) returns [3,2,3]\n",
    "def remove_adjacent(nums):\n",
    "    final = []\n",
    "    for j in range(0,len(nums)-1):\n",
    "        if nums[j] != nums[j+1]:\n",
    "            final.append(nums[j])\n",
    "    if nums[-2:] != nums[-1:]:\n",
    "        final.append(nums[-1:][0])\n",
    "    return final\n",
    "print(remove_adjacent([3,2,3,3,3]))"
   ]
  },
  {
   "cell_type": "markdown",
   "metadata": {},
   "source": [
    "#### refactor of above"
   ]
  },
  {
   "cell_type": "code",
   "execution_count": 235,
   "metadata": {},
   "outputs": [
    {
     "name": "stdout",
     "output_type": "stream",
     "text": [
      "[3, 2, 3]\n"
     ]
    }
   ],
   "source": [
    "def remove_adjacent(nums):\n",
    "    prior = ''\n",
    "    final = []\n",
    "    for num in nums:\n",
    "        if num != prior:\n",
    "            final.append(num)\n",
    "        prior = num\n",
    "    return final\n",
    "print(remove_adjacent([3,2,3,3,3]))"
   ]
  },
  {
   "cell_type": "markdown",
   "metadata": {},
   "source": [
    "#### given two lists sorted, create and return merged list sorted ascending"
   ]
  },
  {
   "cell_type": "code",
   "execution_count": 52,
   "metadata": {},
   "outputs": [
    {
     "name": "stdout",
     "output_type": "stream",
     "text": [
      "['aa', 'bb', 'cc', 'xx', 'zz']\n"
     ]
    }
   ],
   "source": [
    "#linear_merge(['aa','xx'],['bb','cc','zz']) returns ['aa','bb','cc','xx','zz']\n",
    "def linear_merge(list1, list2):\n",
    "    tot_len = len(list1) + len(list2)\n",
    "    final = []\n",
    "    i = 0\n",
    "    j = 0\n",
    "    while len(final) < tot_len:\n",
    "        if i < len(list1) and j < len(list2):\n",
    "            if list1[i] < list2[j]:\n",
    "                final.append(list1[i])\n",
    "                i+=1\n",
    "            elif list2[j] < list1[i]:\n",
    "                final.append(list2[j])\n",
    "                j+=1\n",
    "        elif i == len(list1) and j < len(list2):\n",
    "            final.extend(list2[j:])\n",
    "        elif j == len(list2) and i < len(list1):\n",
    "            final.extend(list1[i:])\n",
    "    return final\n",
    "print(linear_merge(['aa','xx'],['bb','cc','zz']))"
   ]
  },
  {
   "cell_type": "markdown",
   "metadata": {},
   "source": [
    "#### Read from csv and some functions"
   ]
  },
  {
   "cell_type": "code",
   "execution_count": 17,
   "metadata": {},
   "outputs": [
    {
     "name": "stdout",
     "output_type": "stream",
     "text": [
      "[['Arsenal', '38', '26', '9', '3', '79', '36', '87\\n'], ['Liverpool', '38', '24', '8', '6', '67', '30', '80\\n'], ['Manchester United', '38', '24', '5', '9', '87', '45', '77\\n'], ['Newcastle', '38', '21', '8', '9', '74', '52', '71\\n'], ['Leeds', '38', '18', '12', '8', '53', '37', '66\\n'], ['Chelsea', '38', '17', '13', '8', '66', '38', '64\\n'], ['West_Ham', '38', '15', '8', '15', '48', '57', '53\\n'], ['Aston_Villa', '38', '12', '14', '12', '46', '47', '50\\n'], ['Tottenham', '38', '14', '8', '16', '49', '53', '50\\n'], ['Blackburn', '38', '12', '10', '16', '55', '51', '46\\n'], ['Southampton', '38', '12', '9', '17', '46', '54', '45\\n'], ['Middlesbrough', '38', '12', '9', '17', '35', '47', '45\\n'], ['Fulham', '38', '10', '14', '14', '36', '44', '44\\n'], ['Charlton', '38', '10', '14', '14', '38', '49', '44\\n'], ['Everton', '38', '11', '10', '17', '45', '57', '43\\n'], ['Bolton', '38', '9', '13', '16', '44', '62', '40\\n'], ['Sunderland', '38', '10', '10', '18', '29', '51', '40\\n'], ['Ipswich', '38', '9', '9', '20', '41', '64', '36\\n'], ['Derby', '38', '8', '6', '24', '33', '63', '30\\n'], ['Leicester', '38', '5', '13', '20', '30', '64', '28']]\n",
      "['Arsenal', '38', '26', '9', '3', '79', '36', '87\\n']\n",
      "['Liverpool', '38', '24', '8', '6', '67', '30', '80\\n']\n",
      "['Manchester United', '38', '24', '5', '9', '87', '45', '77\\n']\n",
      "['Newcastle', '38', '21', '8', '9', '74', '52', '71\\n']\n",
      "['Leeds', '38', '18', '12', '8', '53', '37', '66\\n']\n",
      "['Chelsea', '38', '17', '13', '8', '66', '38', '64\\n']\n",
      "['West_Ham', '38', '15', '8', '15', '48', '57', '53\\n']\n",
      "['Aston_Villa', '38', '12', '14', '12', '46', '47', '50\\n']\n",
      "['Tottenham', '38', '14', '8', '16', '49', '53', '50\\n']\n",
      "['Blackburn', '38', '12', '10', '16', '55', '51', '46\\n']\n",
      "['Southampton', '38', '12', '9', '17', '46', '54', '45\\n']\n",
      "['Middlesbrough', '38', '12', '9', '17', '35', '47', '45\\n']\n",
      "['Fulham', '38', '10', '14', '14', '36', '44', '44\\n']\n",
      "['Charlton', '38', '10', '14', '14', '38', '49', '44\\n']\n",
      "['Everton', '38', '11', '10', '17', '45', '57', '43\\n']\n",
      "['Bolton', '38', '9', '13', '16', '44', '62', '40\\n']\n",
      "['Sunderland', '38', '10', '10', '18', '29', '51', '40\\n']\n",
      "['Ipswich', '38', '9', '9', '20', '41', '64', '36\\n']\n",
      "['Derby', '38', '8', '6', '24', '33', '63', '30\\n']\n",
      "['Leicester', '38', '5', '13', '20', '30', '64', '28']\n",
      "Aston_Villa\n"
     ]
    }
   ],
   "source": [
    "import csv\n",
    "\n",
    "text = '''Team,Games,Wins,Losses,Draws,Goals,Goals Allowed,Points\n",
    "Arsenal,38,26,9,3,79,36,87\n",
    "Liverpool,38,24,8,6,67,30,80\n",
    "Manchester United,38,24,5,9,87,45,77\n",
    "Newcastle,38,21,8,9,74,52,71\n",
    "Leeds,38,18,12,8,53,37,66\n",
    "Chelsea,38,17,13,8,66,38,64\n",
    "West_Ham,38,15,8,15,48,57,53\n",
    "Aston_Villa,38,12,14,12,46,47,50\n",
    "Tottenham,38,14,8,16,49,53,50\n",
    "Blackburn,38,12,10,16,55,51,46\n",
    "Southampton,38,12,9,17,46,54,45\n",
    "Middlesbrough,38,12,9,17,35,47,45\n",
    "Fulham,38,10,14,14,36,44,44\n",
    "Charlton,38,10,14,14,38,49,44\n",
    "Everton,38,11,10,17,45,57,43\n",
    "Bolton,38,9,13,16,44,62,40\n",
    "Sunderland,38,10,10,18,29,51,40\n",
    "Ipswich,38,9,9,20,41,64,36\n",
    "Derby,38,8,6,24,33,63,30\n",
    "Leicester,38,5,13,20,30,64,28'''\n",
    "\n",
    "with open('football.csv', 'w') as f:\n",
    "    f.write(text)\n",
    "    \n",
    "def read_data(filename):\n",
    "    \"\"\"Returns a list of lists representing the rows of the csv file data.\n",
    "\n",
    "    Arguments: filename is the name of a csv file (as a string)\n",
    "    Returns: list of lists of strings, where every line is split into a list of values. \n",
    "        ex: ['Arsenal', 38, 26, 9, 3, 79, 36, 87]\n",
    "    \"\"\"\n",
    "    rows = []\n",
    "    for row in open(\"football.csv\"):\n",
    "        row_list = row.split(',')\n",
    "        rows.append(row_list)\n",
    "    del rows[0]\n",
    "    return rows   \n",
    "    \n",
    "\n",
    "\n",
    "def get_index_with_min_abs_score_difference(parsed_data):\n",
    "    \"\"\"Returns the index of the team with the smallest difference\n",
    "    between 'for' and 'against' goals, in terms of absolute value.\n",
    "\n",
    "    Arguments: parsed_data is a list of lists of cleaned strings\n",
    "    Returns: integer row index\n",
    "    \"\"\"\n",
    "    goals = []\n",
    "    print(parsed_data)\n",
    "    for team in parsed_data:\n",
    "        print(team)\n",
    "        diff = abs(int(team[5]) - int(team[6]))\n",
    "        goals.append(diff)\n",
    "    return goals.index(min(goals))\n",
    "    \n",
    "    \n",
    "def get_team(index_value, parsed_data):\n",
    "    \"\"\"Returns the team name at a given index.\n",
    "    \n",
    "    Arguments: index_value is an integer row index\n",
    "               parsed_data is the output of `read_data` above\n",
    "               \n",
    "    Returns: the team name\n",
    "    \"\"\"\n",
    "    return parsed_data[index_value][0]\n",
    "\n",
    "footballTable = read_data('football.csv')\n",
    "minRow = get_index_with_min_abs_score_difference(footballTable)\n",
    "print(str(get_team(minRow, footballTable)))"
   ]
  },
  {
   "cell_type": "markdown",
   "metadata": {},
   "source": [
    "#### Make algorithm faster"
   ]
  },
  {
   "cell_type": "code",
   "execution_count": 22,
   "metadata": {},
   "outputs": [
    {
     "name": "stdout",
     "output_type": "stream",
     "text": [
      "1\n"
     ]
    }
   ],
   "source": [
    "from datetime import datetime\n",
    "\n",
    "def intersect_lists_1(list1, list2):\n",
    "    return [i for i in list1 if i in list2]\n",
    "\n",
    "def intersect_lists_2(list1, list2):\n",
    "    s1 = set(list1)\n",
    "    s2 = set(list2)\n",
    "    return s1.intersection(s2)    \n",
    "\n",
    "    \n",
    "import random\n",
    "\n",
    "def measure_time(f, *args):\n",
    "    then = datetime.now()\n",
    "    res = f(*args)\n",
    "    now = datetime.now()\n",
    "    return res, now-then\n",
    "\n",
    "list1 = random.sample(range(10**6), 10000)\n",
    "list2 = random.sample(range(10**6), 10000)\n",
    "ans1, time1 = measure_time(intersect_lists_1, list1, list2)\n",
    "ans2, time2 = measure_time(intersect_lists_2, list1, list2)\n",
    "assert time2 < time1 / 100, 'the function can be faster'\n",
    "assert set(ans1) == set(ans2), 'the function does not work correctly'\n",
    "print(1)"
   ]
  },
  {
   "cell_type": "markdown",
   "metadata": {},
   "source": [
    "#### Remove duplicates from a non-sorted list in O(n)"
   ]
  },
  {
   "cell_type": "code",
   "execution_count": 23,
   "metadata": {},
   "outputs": [
    {
     "name": "stdout",
     "output_type": "stream",
     "text": [
      "1\n"
     ]
    }
   ],
   "source": [
    "from datetime import datetime, timedelta\n",
    "import random\n",
    "\n",
    "# Complete the function below.\n",
    "# Aim for linear complexity.\n",
    "\n",
    "def remove_duplicates(somelist):\n",
    "    return set(somelist)\n",
    "    \n",
    "somelist = [random.randint(0, 10000) for i in range(1000)]\n",
    "then = datetime.now()\n",
    "ans = remove_duplicates(somelist)\n",
    "now = datetime.now()\n",
    "assert (now-then) < timedelta(0, 0, 100), 'the function can be faster'\n",
    "assert not len(ans) - len(set(ans)), 'there are dupes in your answer'\n",
    "assert all(i in somelist for i in ans)\n",
    "\n",
    "print(1)"
   ]
  }
 ],
 "metadata": {
  "kernelspec": {
   "display_name": "Python 3",
   "language": "python",
   "name": "python3"
  },
  "language_info": {
   "codemirror_mode": {
    "name": "ipython",
    "version": 3
   },
   "file_extension": ".py",
   "mimetype": "text/x-python",
   "name": "python",
   "nbconvert_exporter": "python",
   "pygments_lexer": "ipython3",
   "version": "3.6.6"
  }
 },
 "nbformat": 4,
 "nbformat_minor": 2
}
